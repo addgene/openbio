{
 "cells": [
  {
   "cell_type": "markdown",
   "id": "55aaaca4-757f-4432-9fe9-eef1e2cadc0e",
   "metadata": {},
   "source": [
    "# Step 1:\n",
    "### - For any new serotypes, add the capsid nucleotide sequence(s) to the serotype_capsids.fa file.\n",
    "### - Make sure the parameters.yml file is up to date (i.e., this is the same version used in the serotype detection script in openbio). All of the subsequences used to find serotypes in use should be represented. The new serotypes should not be in the parameters.yml file yet.\n",
    "\n"
   ]
  },
  {
   "cell_type": "code",
   "execution_count": 1,
   "id": "31642cce-84f2-4cf4-93f8-92678220394b",
   "metadata": {},
   "outputs": [],
   "source": [
    "import yaml\n",
    "from yaml.loader import SafeLoader\n",
    "from Bio import SeqIO\n",
    "from Bio.Seq import Seq\n",
    "\n",
    "\n",
    "PARAM_FILE_NAME = 'parameters.yml'\n",
    "\n",
    "def get_kmers(sequence, k):\n",
    "    ''' Get set of unique kmers of size k per sequence '''\n",
    "    kmers = set(sequence[pos:pos+k] for pos in range(len(sequence)) if len(sequence) + 1 - pos > k)\n",
    "\n",
    "    return kmers\n",
    "\n"
   ]
  },
  {
   "cell_type": "markdown",
   "id": "448d9009-e4ba-46a3-8966-ad89b3be8f14",
   "metadata": {},
   "source": [
    "## Step 2. Confirm the existing subsequences from parameters.yml are still unique in light of new capsid sequences being added to serotype_capsids.fa\n",
    "\n",
    "### The output of this cell will identify any sequences that are no longer unique. If any are identified those subsequences should be removed from the parameters.yml file."
   ]
  },
  {
   "cell_type": "code",
   "execution_count": 4,
   "id": "8a55c94c-1160-4ef6-8042-6e70ed5400a9",
   "metadata": {},
   "outputs": [
    {
     "name": "stdout",
     "output_type": "stream",
     "text": [
      "The subsequence CTTTGGCGGTGCCTTTTAAGGCACAGGCGCAGA from serotype PHPeB was found in the capsid sequence for serotype Cap-B10.\n",
      "The subsequence CTTTGGCGGTGCCTTTTAAGGCACAGGCGCAGA from serotype PHPeB was found in the capsid sequence for serotype Cap-B22.\n"
     ]
    }
   ],
   "source": [
    "# get the existing capsid subsequences from the parameters file\n",
    "with open(PARAM_FILE_NAME, 'r') as yaml_file:\n",
    "    capsid_subsequences = yaml.load(yaml_file, Loader=SafeLoader)['serotypes']\n",
    "\n",
    "# find if existing sequences in capsid_subsequences can be found in any of the full sequences in serotype_capsids.fa (i.e., find if they are still unique).\n",
    "with open(\"serotype_capsids.fa\") as handle:\n",
    "    for record in SeqIO.parse(handle, \"fasta\"):\n",
    "        record.seq = record.seq.upper()\n",
    "        for serotype, subsequences in capsid_subsequences['signatures'].items():\n",
    "            if serotype != record.id: # do not want to compare to itself\n",
    "                for subsequence in subsequences:\n",
    "                    subsequence = subsequence.upper()\n",
    "\n",
    "                    # compare sequences in forward direction, reverse, and reverse complement\n",
    "                    rev_compl = str(Seq(subsequence).reverse_complement())\n",
    "                    subseq_loc_rev_compl = record.seq.find(rev_compl)\n",
    "                    \n",
    "                    subseq_loc_rev = record.seq.find(subsequence[::-1])\n",
    "                    \n",
    "                    subseq_loc = record.seq.find(subsequence)\n",
    "\n",
    "                    # if one of the subsequences were found (the result is not -1), print out results \n",
    "                    if subseq_loc != -1:\n",
    "                        print(f'The subsequence {subsequence} from serotype {serotype} was found in the capsid sequence for serotype {record.id}.')\n",
    "                    if subseq_loc_rev != -1:\n",
    "                        print(f'The reverse of subsequence {subsequence} from serotype {serotype} was found in the capsid sequence for serotype {record.id}.')\n",
    "                    if subseq_loc_rev_compl != -1:\n",
    "                        print(f'The reverse complement of subsequence {subsequence} from serotype {serotype} was found in the capsid sequence for serotype {record.id}.')\n"
   ]
  },
  {
   "cell_type": "markdown",
   "id": "604a19db-1d3a-4825-9c95-48afc07c8823",
   "metadata": {},
   "source": [
    "## Step 3. Identify new unique subsquences for the new serotypes.\n",
    "\n",
    "### The below code will identify a unique subsequence for each serotype. First, define the length of the unique subsequences you want produced using the kmer_length variable (default 25 bp). Then, select the number of unique subsequences to output per serotype. Identify the new serotypes in the below list and add the new unique subsequences to parameters.yml in this directory and in the parameters.yml file in openbio.\n",
    "\n",
    "### In addition, if any sequences were identified in Step 2 that are no longer unique, the new subsequence for that serotype below should be used to replace the existing subsequence. All others subsequences for existing serotypes that are still unique can be left as is (no need to replace with the below new sequence)."
   ]
  },
  {
   "cell_type": "code",
   "execution_count": 5,
   "id": "92d6dd47-64ce-4095-96dc-6fa6f758ac83",
   "metadata": {},
   "outputs": [],
   "source": [
    "kmer_length = 25\n",
    "max_num_subsequences_to_return = 5"
   ]
  },
  {
   "cell_type": "code",
   "execution_count": 6,
   "id": "ed042608-dbcc-4d58-82c3-c739fb614eaa",
   "metadata": {},
   "outputs": [
    {
     "name": "stdout",
     "output_type": "stream",
     "text": [
      "AAV1 GGAAATTAAAGCCACTAACCCTGTG\n",
      "AAV1 TACTGCCTGGAATATTTCCCTTCTC\n",
      "AAV1 ACACCTTTGAGGAAGTGCCTTTCCA\n",
      "AAV1 AACGGGGGCCAGCAACGACAACCAC\n",
      "AAV1 TACCTGGCATGGTGTGGCAAGATAG\n",
      "AAV2 CCTCCTCCACAGATTCTCATCAAGA\n",
      "AAV2 CTCCTCCACAGATTCTCATCAAGAA\n",
      "AAV2 TACCTCACCCTGAACAACGGGAGTC\n",
      "AAV2 ACCCTGAACAACGGGAGTCAGGCAG\n",
      "AAV2 ACCTCACCCTGAACAACGGGAGTCA\n",
      "AAV5 GGTTCCCGGGGCCCATGGGCCGAAC\n",
      "AAV5 AGAGACGGGGGCGCACTTTCACCCC\n",
      "AAV5 TGCTGCCTGGTTATAACTATCTCGG\n",
      "AAV5 CGCCTGTGCCCGGAAATATCACCAG\n",
      "AAV5 GTGTTTACGGACGACGACTACCAGC\n",
      "AAV8 AAATTCATTGGCTAATCCTGGCATC\n",
      "AAV8 CCAAATACCATCTGAATGGAAGAAA\n",
      "AAV8 ACTGCTGGGACCAAATACCATCTGA\n",
      "AAV8 AAACAAAATGCTGCCAGAGACAATG\n",
      "AAV8 CCACAGCCAGAGCTTGGACCGGCTG\n",
      "AAV9 AAACAAGGAACTGGAAGAGACAACG\n",
      "AAV9 AACTGGAAGAGACAACGTGGATGCG\n",
      "AAV9 TGAATCCTGGACCTGCTATGGCCAG\n",
      "AAV9 ACTTCAAGCTCTTCAACATTCAGGT\n",
      "AAV9 ACAAGGAACTGGAAGAGACAACGTG\n",
      "AAVrg TCGGACTTAAACACCCTCCTCCCCA\n",
      "AAVrg CCAGAGAGGCAACCTAGCAGACCAA\n",
      "AAVrg ACCTCCAGAGAGGCAACCTAGCAGA\n",
      "AAVrg AACAAGTCTATTAATGTGGACTTTA\n",
      "AAVrg TACACAAAAACTGCTAGGCAAGCAG\n",
      "PHPs GGACGTCTTTGGCACAGGCGCAGAC\n",
      "PHPs TGGCACAGGCGCAGACCGGTTGGGT\n",
      "PHPs AGTGCCCAACAGGCGGTTAGGACGT\n",
      "PHPs CCCAACAGGCGGTTAGGACGTCTTT\n",
      "PHPs GTCTTTGGCACAGGCGCAGACCGGT\n",
      "MaCPNS1 CCACGAAGGCAGCAGCAGAGCACAG\n",
      "MaCPNS1 AACCACCAGAGTGCCCAACCCCACG\n",
      "MaCPNS1 GCAGCAGAGCACAGGCGCAGACCGG\n",
      "MaCPNS1 GAGTGCCCAACCCCACGAAGGCAGC\n",
      "MaCPNS1 AGAGTGCCCAACCCCACGAAGGCAG\n",
      "MaCPNS2 ACAAACCACCAGAGTGCCCAACCCA\n",
      "MaCPNS2 AACGCCAGCGTCAACAGTGCACAGG\n",
      "MaCPNS2 GTGCACAGGCGCAGACCGGTTGGGT\n",
      "MaCPNS2 ACAGTGCACAGGCGCAGACCGGTTG\n",
      "MaCPNS2 CAACCCAACGCCAGCGTCAACAGTG\n",
      "Cap-B10 ACGGCGCCGCCACCAAAAACCAAAC\n",
      "Cap-B10 CTCTAGAACTATTGACGGCGCCGCC\n",
      "Cap-B10 TCTCTAGAACTATTGACGGCGCCGC\n",
      "Cap-B10 ACCAAACGCTAAAATTCAGTGTGGC\n",
      "Cap-B10 AACCAAACGCTAAAATTCAGTGTGG\n",
      "Cap-B22 CCAAAGCAGCAAAAGCCAAACGCTA\n",
      "Cap-B22 GGCCAAAGCAGCAAAAGCCAAACGC\n",
      "Cap-B22 CTCTCTAGAACTATTGACGGCCAAA\n",
      "Cap-B22 AAGCCAAACGCTAAAATTCAGTGTG\n",
      "Cap-B22 CAGCAAAAGCCAAACGCTAAAATTC\n",
      "AAV7 TGCCGACGGAGTGGGTAATGCCTCA\n",
      "AAV7 CTGGAGCAACTAACAAAACTACATT\n",
      "AAV7 GTGCCACCAAATATCACCTGAACGG\n",
      "AAV7 AACTGGGGATTCCGGCCCAAGAAGC\n",
      "AAV7 AAACAACAACAGCAACTTTGCTTGG\n",
      "AAVrh10 CGGCTGATGAACCCCCTCATCGACC\n",
      "AAVrh10 ATGAACCCCCTCATCGACCAGTACC\n",
      "AAVrh10 GCGCACAGCCAAAGCCTGGACCGGC\n",
      "AAVrh10 ACAGCAGCTACGCGCACAGCCAAAG\n",
      "AAVrh10 AAAACGCCGCTCCTATTGTAGGGGC\n"
     ]
    }
   ],
   "source": [
    "# get the set of kmers for each capsid serotype and store in serotype_kmers\n",
    "serotype_kmers = {}\n",
    "with open(\"serotype_capsids.fa\") as handle:\n",
    "    for record in SeqIO.parse(handle, \"fasta\"):\n",
    "        record.seq = str(record.seq.upper())\n",
    "        serotype_kmers[record.id] = get_kmers(record.seq, kmer_length)\n",
    "\n",
    "# for each serotype (key in serotype_kmers), find a single subsequence in the values that is not found in the values of any other key in the dictionary\n",
    "for serotype1,kmer_set1 in serotype_kmers.items():\n",
    "    combinedkmers = []\n",
    "    for serotype2,kmer_set2 in serotype_kmers.items():\n",
    "        if serotype1 != serotype2:\n",
    "            combinedkmers.extend(kmer_set2) # combine all other values into one list\n",
    "    \n",
    "    # find unique sequences for each serotype\n",
    "    count = 0\n",
    "    for subseq in kmer_set1:\n",
    "        # check that the subseq is uniqe in forward direction, reverse, and reverse complement\n",
    "        if subseq not in combinedkmers and subseq[::-1] not in combinedkmers and str(Seq(subseq).reverse_complement()) not in combinedkmers: \n",
    "            count += 1\n",
    "            if count <= max_num_subsequences_to_return:\n",
    "                print(serotype1, subseq)\n",
    "            else:\n",
    "                break \n",
    "    "
   ]
  },
  {
   "cell_type": "code",
   "execution_count": null,
   "id": "2be6009f-c950-4439-9b0b-c6d500cf7f0c",
   "metadata": {},
   "outputs": [],
   "source": []
  },
  {
   "cell_type": "code",
   "execution_count": null,
   "id": "abeb3d45-2fba-483b-ac5a-4aeca667b830",
   "metadata": {},
   "outputs": [],
   "source": []
  }
 ],
 "metadata": {
  "kernelspec": {
   "display_name": "Python 3 (ipykernel)",
   "language": "python",
   "name": "python3"
  },
  "language_info": {
   "codemirror_mode": {
    "name": "ipython",
    "version": 3
   },
   "file_extension": ".py",
   "mimetype": "text/x-python",
   "name": "python",
   "nbconvert_exporter": "python",
   "pygments_lexer": "ipython3",
   "version": "3.12.7"
  }
 },
 "nbformat": 4,
 "nbformat_minor": 5
}
